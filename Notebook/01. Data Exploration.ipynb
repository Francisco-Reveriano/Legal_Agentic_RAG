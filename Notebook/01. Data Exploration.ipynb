{
 "cells": [
  {
   "cell_type": "code",
   "id": "initial_id",
   "metadata": {
    "collapsed": true,
    "ExecuteTime": {
     "end_time": "2025-03-06T19:52:54.766573Z",
     "start_time": "2025-03-06T19:52:50.581533Z"
    }
   },
   "source": [
    "import os\n",
    "\n",
    "from dotenv import load_dotenv\n",
    "from openai import OpenAI\n",
    "from IPython.display import display, Markdown\n",
    "from src.data_processing import *\n",
    "import warnings\n",
    "from google import genai\n",
    "warnings.filterwarnings(\"ignore\")\n",
    "\n",
    "# Load environment variables from .env\n",
    "load_dotenv()\n",
    "os.environ[\"OPENAI_API_KEY\"] = os.getenv(\"OPENAI_API_KEY\")"
   ],
   "outputs": [],
   "execution_count": 1
  },
  {
   "metadata": {},
   "cell_type": "markdown",
   "source": "## Load File",
   "id": "6afac42b757c89ec"
  },
  {
   "metadata": {
    "ExecuteTime": {
     "end_time": "2025-03-06T19:53:14.957481Z",
     "start_time": "2025-03-06T19:53:11.076430Z"
    }
   },
   "cell_type": "code",
   "source": [
    "folder_path = \"../Data/Raw\"\n",
    "full_text = []\n",
    "for filename in tqdm(os.listdir(folder_path), desc=\"Processing files\"):\n",
    "    # Process only files that end with '.txt'\n",
    "    if filename.lower().endswith(\".txt\"):\n",
    "        file_path = os.path.join(folder_path, filename)\n",
    "        try:\n",
    "            # Open and read the file content.\n",
    "            with open(file_path, \"r\", encoding=\"utf-8\") as file:\n",
    "                text = file.read()\n",
    "                full_text.append(text)\n",
    "        except Exception as e:\n",
    "            print(f\"Error reading {filename}: {e}\")\n",
    "            continue\n",
    "\n",
    "print(\"Number of Documents: \", len(full_text))\n",
    "text = \" \".join(full_text)\n",
    "print(\"Total Token Length: \", count_tokens_gpt4(text))"
   ],
   "id": "1fa3ae7ca7cecdb6",
   "outputs": [
    {
     "name": "stderr",
     "output_type": "stream",
     "text": [
      "Processing files: 100%|██████████| 10/10 [00:00<00:00, 20.10it/s]\n"
     ]
    },
    {
     "name": "stdout",
     "output_type": "stream",
     "text": [
      "Number of Documents:  10\n",
      "Total Token Length:  10957770\n"
     ]
    }
   ],
   "execution_count": 2
  },
  {
   "metadata": {},
   "cell_type": "markdown",
   "source": "## Gemini",
   "id": "89622da2710a9606"
  },
  {
   "metadata": {
    "ExecuteTime": {
     "end_time": "2025-02-28T22:33:55.655266Z",
     "start_time": "2025-02-28T22:33:55.400793Z"
    }
   },
   "cell_type": "code",
   "source": [
    "file_path = \"../Data/Raw/CFR-2024-title12-vol4.txt\"\n",
    "with open(file_path, \"r\", encoding=\"utf-8\") as file:\n",
    "    text = file.read()\n",
    "print(\"Number of tokens: \", count_tokens_gpt4(text))"
   ],
   "id": "3b92aa1c8f4631ab",
   "outputs": [
    {
     "name": "stdout",
     "output_type": "stream",
     "text": [
      "Number of tokens:  885551\n"
     ]
    }
   ],
   "execution_count": 16
  },
  {
   "metadata": {
    "ExecuteTime": {
     "end_time": "2025-02-28T22:34:40.244142Z",
     "start_time": "2025-02-28T22:34:39.688274Z"
    }
   },
   "cell_type": "code",
   "source": [
    "client = genai.Client(api_key=os.getenv(\"GEMINI_API_KEY\"))\n",
    "chat = client.chats.create(model=\"gemini-1.5-flash\")\n",
    "response = chat.send_message(text)\n",
    "print(response.text)"
   ],
   "id": "83cd30eea317beb1",
   "outputs": [
    {
     "ename": "ClientError",
     "evalue": "429 RESOURCE_EXHAUSTED. {'error': {'code': 429, 'message': 'Resource has been exhausted (e.g. check quota).', 'status': 'RESOURCE_EXHAUSTED'}}",
     "output_type": "error",
     "traceback": [
      "\u001B[0;31m---------------------------------------------------------------------------\u001B[0m",
      "\u001B[0;31mClientError\u001B[0m                               Traceback (most recent call last)",
      "Cell \u001B[0;32mIn[17], line 3\u001B[0m\n\u001B[1;32m      1\u001B[0m client \u001B[38;5;241m=\u001B[39m genai\u001B[38;5;241m.\u001B[39mClient(api_key\u001B[38;5;241m=\u001B[39mos\u001B[38;5;241m.\u001B[39mgetenv(\u001B[38;5;124m\"\u001B[39m\u001B[38;5;124mGEMINI_API_KEY\u001B[39m\u001B[38;5;124m\"\u001B[39m))\n\u001B[1;32m      2\u001B[0m chat \u001B[38;5;241m=\u001B[39m client\u001B[38;5;241m.\u001B[39mchats\u001B[38;5;241m.\u001B[39mcreate(model\u001B[38;5;241m=\u001B[39m\u001B[38;5;124m\"\u001B[39m\u001B[38;5;124mgemini-1.5-flash\u001B[39m\u001B[38;5;124m\"\u001B[39m)\n\u001B[0;32m----> 3\u001B[0m response \u001B[38;5;241m=\u001B[39m \u001B[43mchat\u001B[49m\u001B[38;5;241;43m.\u001B[39;49m\u001B[43msend_message\u001B[49m\u001B[43m(\u001B[49m\u001B[43mtext\u001B[49m\u001B[43m)\u001B[49m\n\u001B[1;32m      4\u001B[0m \u001B[38;5;28mprint\u001B[39m(response\u001B[38;5;241m.\u001B[39mtext)\n",
      "File \u001B[0;32m~/Documents/Advance_RAG/.venv/lib/python3.9/site-packages/google/genai/chats.py:83\u001B[0m, in \u001B[0;36mChat.send_message\u001B[0;34m(self, message, config)\u001B[0m\n\u001B[1;32m     64\u001B[0m \u001B[38;5;250m\u001B[39m\u001B[38;5;124;03m\"\"\"Sends the conversation history with the additional message and returns the model's response.\u001B[39;00m\n\u001B[1;32m     65\u001B[0m \n\u001B[1;32m     66\u001B[0m \u001B[38;5;124;03mArgs:\u001B[39;00m\n\u001B[0;32m   (...)\u001B[0m\n\u001B[1;32m     79\u001B[0m \u001B[38;5;124;03m  response = chat.send_message('tell me a story')\u001B[39;00m\n\u001B[1;32m     80\u001B[0m \u001B[38;5;124;03m\"\"\"\u001B[39;00m\n\u001B[1;32m     82\u001B[0m input_content \u001B[38;5;241m=\u001B[39m t\u001B[38;5;241m.\u001B[39mt_content(\u001B[38;5;28mself\u001B[39m\u001B[38;5;241m.\u001B[39m_modules\u001B[38;5;241m.\u001B[39m_api_client, message)\n\u001B[0;32m---> 83\u001B[0m response \u001B[38;5;241m=\u001B[39m \u001B[38;5;28;43mself\u001B[39;49m\u001B[38;5;241;43m.\u001B[39;49m\u001B[43m_modules\u001B[49m\u001B[38;5;241;43m.\u001B[39;49m\u001B[43mgenerate_content\u001B[49m\u001B[43m(\u001B[49m\n\u001B[1;32m     84\u001B[0m \u001B[43m    \u001B[49m\u001B[43mmodel\u001B[49m\u001B[38;5;241;43m=\u001B[39;49m\u001B[38;5;28;43mself\u001B[39;49m\u001B[38;5;241;43m.\u001B[39;49m\u001B[43m_model\u001B[49m\u001B[43m,\u001B[49m\n\u001B[1;32m     85\u001B[0m \u001B[43m    \u001B[49m\u001B[43mcontents\u001B[49m\u001B[38;5;241;43m=\u001B[39;49m\u001B[38;5;28;43mself\u001B[39;49m\u001B[38;5;241;43m.\u001B[39;49m\u001B[43m_curated_history\u001B[49m\u001B[43m \u001B[49m\u001B[38;5;241;43m+\u001B[39;49m\u001B[43m \u001B[49m\u001B[43m[\u001B[49m\u001B[43minput_content\u001B[49m\u001B[43m]\u001B[49m\u001B[43m,\u001B[49m\n\u001B[1;32m     86\u001B[0m \u001B[43m    \u001B[49m\u001B[43mconfig\u001B[49m\u001B[38;5;241;43m=\u001B[39;49m\u001B[43mconfig\u001B[49m\u001B[43m \u001B[49m\u001B[38;5;28;43;01mif\u001B[39;49;00m\u001B[43m \u001B[49m\u001B[43mconfig\u001B[49m\u001B[43m \u001B[49m\u001B[38;5;28;43;01melse\u001B[39;49;00m\u001B[43m \u001B[49m\u001B[38;5;28;43mself\u001B[39;49m\u001B[38;5;241;43m.\u001B[39;49m\u001B[43m_config\u001B[49m\u001B[43m,\u001B[49m\n\u001B[1;32m     87\u001B[0m \u001B[43m\u001B[49m\u001B[43m)\u001B[49m\n\u001B[1;32m     88\u001B[0m \u001B[38;5;28;01mif\u001B[39;00m _validate_response(response):\n\u001B[1;32m     89\u001B[0m   \u001B[38;5;28;01mif\u001B[39;00m response\u001B[38;5;241m.\u001B[39mautomatic_function_calling_history:\n",
      "File \u001B[0;32m~/Documents/Advance_RAG/.venv/lib/python3.9/site-packages/google/genai/models.py:5164\u001B[0m, in \u001B[0;36mModels.generate_content\u001B[0;34m(self, model, contents, config)\u001B[0m\n\u001B[1;32m   5162\u001B[0m \u001B[38;5;28;01mwhile\u001B[39;00m remaining_remote_calls_afc \u001B[38;5;241m>\u001B[39m \u001B[38;5;241m0\u001B[39m:\n\u001B[1;32m   5163\u001B[0m   i \u001B[38;5;241m+\u001B[39m\u001B[38;5;241m=\u001B[39m \u001B[38;5;241m1\u001B[39m\n\u001B[0;32m-> 5164\u001B[0m   response \u001B[38;5;241m=\u001B[39m \u001B[38;5;28;43mself\u001B[39;49m\u001B[38;5;241;43m.\u001B[39;49m\u001B[43m_generate_content\u001B[49m\u001B[43m(\u001B[49m\n\u001B[1;32m   5165\u001B[0m \u001B[43m      \u001B[49m\u001B[43mmodel\u001B[49m\u001B[38;5;241;43m=\u001B[39;49m\u001B[43mmodel\u001B[49m\u001B[43m,\u001B[49m\u001B[43m \u001B[49m\u001B[43mcontents\u001B[49m\u001B[38;5;241;43m=\u001B[39;49m\u001B[43mcontents\u001B[49m\u001B[43m,\u001B[49m\u001B[43m \u001B[49m\u001B[43mconfig\u001B[49m\u001B[38;5;241;43m=\u001B[39;49m\u001B[43mconfig\u001B[49m\n\u001B[1;32m   5166\u001B[0m \u001B[43m  \u001B[49m\u001B[43m)\u001B[49m\n\u001B[1;32m   5167\u001B[0m   logger\u001B[38;5;241m.\u001B[39minfo(\u001B[38;5;124mf\u001B[39m\u001B[38;5;124m'\u001B[39m\u001B[38;5;124mAFC remote call \u001B[39m\u001B[38;5;132;01m{\u001B[39;00mi\u001B[38;5;132;01m}\u001B[39;00m\u001B[38;5;124m is done.\u001B[39m\u001B[38;5;124m'\u001B[39m)\n\u001B[1;32m   5168\u001B[0m   remaining_remote_calls_afc \u001B[38;5;241m-\u001B[39m\u001B[38;5;241m=\u001B[39m \u001B[38;5;241m1\u001B[39m\n",
      "File \u001B[0;32m~/Documents/Advance_RAG/.venv/lib/python3.9/site-packages/google/genai/models.py:4239\u001B[0m, in \u001B[0;36mModels._generate_content\u001B[0;34m(self, model, contents, config)\u001B[0m\n\u001B[1;32m   4236\u001B[0m request_dict \u001B[38;5;241m=\u001B[39m _common\u001B[38;5;241m.\u001B[39mconvert_to_dict(request_dict)\n\u001B[1;32m   4237\u001B[0m request_dict \u001B[38;5;241m=\u001B[39m _common\u001B[38;5;241m.\u001B[39mencode_unserializable_types(request_dict)\n\u001B[0;32m-> 4239\u001B[0m response_dict \u001B[38;5;241m=\u001B[39m \u001B[38;5;28;43mself\u001B[39;49m\u001B[38;5;241;43m.\u001B[39;49m\u001B[43m_api_client\u001B[49m\u001B[38;5;241;43m.\u001B[39;49m\u001B[43mrequest\u001B[49m\u001B[43m(\u001B[49m\n\u001B[1;32m   4240\u001B[0m \u001B[43m    \u001B[49m\u001B[38;5;124;43m'\u001B[39;49m\u001B[38;5;124;43mpost\u001B[39;49m\u001B[38;5;124;43m'\u001B[39;49m\u001B[43m,\u001B[49m\u001B[43m \u001B[49m\u001B[43mpath\u001B[49m\u001B[43m,\u001B[49m\u001B[43m \u001B[49m\u001B[43mrequest_dict\u001B[49m\u001B[43m,\u001B[49m\u001B[43m \u001B[49m\u001B[43mhttp_options\u001B[49m\n\u001B[1;32m   4241\u001B[0m \u001B[43m\u001B[49m\u001B[43m)\u001B[49m\n\u001B[1;32m   4243\u001B[0m \u001B[38;5;28;01mif\u001B[39;00m \u001B[38;5;28mself\u001B[39m\u001B[38;5;241m.\u001B[39m_api_client\u001B[38;5;241m.\u001B[39mvertexai:\n\u001B[1;32m   4244\u001B[0m   response_dict \u001B[38;5;241m=\u001B[39m _GenerateContentResponse_from_vertex(\n\u001B[1;32m   4245\u001B[0m       \u001B[38;5;28mself\u001B[39m\u001B[38;5;241m.\u001B[39m_api_client, response_dict\n\u001B[1;32m   4246\u001B[0m   )\n",
      "File \u001B[0;32m~/Documents/Advance_RAG/.venv/lib/python3.9/site-packages/google/genai/_api_client.py:553\u001B[0m, in \u001B[0;36mApiClient.request\u001B[0;34m(self, http_method, path, request_dict, http_options)\u001B[0m\n\u001B[1;32m    543\u001B[0m \u001B[38;5;28;01mdef\u001B[39;00m\u001B[38;5;250m \u001B[39m\u001B[38;5;21mrequest\u001B[39m(\n\u001B[1;32m    544\u001B[0m     \u001B[38;5;28mself\u001B[39m,\n\u001B[1;32m    545\u001B[0m     http_method: \u001B[38;5;28mstr\u001B[39m,\n\u001B[0;32m   (...)\u001B[0m\n\u001B[1;32m    548\u001B[0m     http_options: HttpOptionsOrDict \u001B[38;5;241m=\u001B[39m \u001B[38;5;28;01mNone\u001B[39;00m,\n\u001B[1;32m    549\u001B[0m ):\n\u001B[1;32m    550\u001B[0m   http_request \u001B[38;5;241m=\u001B[39m \u001B[38;5;28mself\u001B[39m\u001B[38;5;241m.\u001B[39m_build_request(\n\u001B[1;32m    551\u001B[0m       http_method, path, request_dict, http_options\n\u001B[1;32m    552\u001B[0m   )\n\u001B[0;32m--> 553\u001B[0m   response \u001B[38;5;241m=\u001B[39m \u001B[38;5;28;43mself\u001B[39;49m\u001B[38;5;241;43m.\u001B[39;49m\u001B[43m_request\u001B[49m\u001B[43m(\u001B[49m\u001B[43mhttp_request\u001B[49m\u001B[43m,\u001B[49m\u001B[43m \u001B[49m\u001B[43mstream\u001B[49m\u001B[38;5;241;43m=\u001B[39;49m\u001B[38;5;28;43;01mFalse\u001B[39;49;00m\u001B[43m)\u001B[49m\n\u001B[1;32m    554\u001B[0m   json_response \u001B[38;5;241m=\u001B[39m response\u001B[38;5;241m.\u001B[39mjson\n\u001B[1;32m    555\u001B[0m   \u001B[38;5;28;01mif\u001B[39;00m \u001B[38;5;129;01mnot\u001B[39;00m json_response:\n",
      "File \u001B[0;32m~/Documents/Advance_RAG/.venv/lib/python3.9/site-packages/google/genai/_api_client.py:467\u001B[0m, in \u001B[0;36mApiClient._request\u001B[0;34m(self, http_request, stream)\u001B[0m\n\u001B[1;32m    463\u001B[0m   \u001B[38;5;28;01mreturn\u001B[39;00m HttpResponse(\n\u001B[1;32m    464\u001B[0m       response\u001B[38;5;241m.\u001B[39mheaders, response \u001B[38;5;28;01mif\u001B[39;00m stream \u001B[38;5;28;01melse\u001B[39;00m [response\u001B[38;5;241m.\u001B[39mtext]\n\u001B[1;32m    465\u001B[0m   )\n\u001B[1;32m    466\u001B[0m \u001B[38;5;28;01melse\u001B[39;00m:\n\u001B[0;32m--> 467\u001B[0m   \u001B[38;5;28;01mreturn\u001B[39;00m \u001B[38;5;28;43mself\u001B[39;49m\u001B[38;5;241;43m.\u001B[39;49m\u001B[43m_request_unauthorized\u001B[49m\u001B[43m(\u001B[49m\u001B[43mhttp_request\u001B[49m\u001B[43m,\u001B[49m\u001B[43m \u001B[49m\u001B[43mstream\u001B[49m\u001B[43m)\u001B[49m\n",
      "File \u001B[0;32m~/Documents/Advance_RAG/.venv/lib/python3.9/site-packages/google/genai/_api_client.py:490\u001B[0m, in \u001B[0;36mApiClient._request_unauthorized\u001B[0;34m(self, http_request, stream)\u001B[0m\n\u001B[1;32m    481\u001B[0m http_session \u001B[38;5;241m=\u001B[39m requests\u001B[38;5;241m.\u001B[39mSession()\n\u001B[1;32m    482\u001B[0m response \u001B[38;5;241m=\u001B[39m http_session\u001B[38;5;241m.\u001B[39mrequest(\n\u001B[1;32m    483\u001B[0m     method\u001B[38;5;241m=\u001B[39mhttp_request\u001B[38;5;241m.\u001B[39mmethod,\n\u001B[1;32m    484\u001B[0m     url\u001B[38;5;241m=\u001B[39mhttp_request\u001B[38;5;241m.\u001B[39murl,\n\u001B[0;32m   (...)\u001B[0m\n\u001B[1;32m    488\u001B[0m     stream\u001B[38;5;241m=\u001B[39mstream,\n\u001B[1;32m    489\u001B[0m )\n\u001B[0;32m--> 490\u001B[0m \u001B[43merrors\u001B[49m\u001B[38;5;241;43m.\u001B[39;49m\u001B[43mAPIError\u001B[49m\u001B[38;5;241;43m.\u001B[39;49m\u001B[43mraise_for_response\u001B[49m\u001B[43m(\u001B[49m\u001B[43mresponse\u001B[49m\u001B[43m)\u001B[49m\n\u001B[1;32m    491\u001B[0m \u001B[38;5;28;01mreturn\u001B[39;00m HttpResponse(\n\u001B[1;32m    492\u001B[0m     response\u001B[38;5;241m.\u001B[39mheaders, response \u001B[38;5;28;01mif\u001B[39;00m stream \u001B[38;5;28;01melse\u001B[39;00m [response\u001B[38;5;241m.\u001B[39mtext]\n\u001B[1;32m    493\u001B[0m )\n",
      "File \u001B[0;32m~/Documents/Advance_RAG/.venv/lib/python3.9/site-packages/google/genai/errors.py:115\u001B[0m, in \u001B[0;36mAPIError.raise_for_response\u001B[0;34m(cls, response)\u001B[0m\n\u001B[1;32m    113\u001B[0m status_code \u001B[38;5;241m=\u001B[39m response\u001B[38;5;241m.\u001B[39mstatus_code\n\u001B[1;32m    114\u001B[0m \u001B[38;5;28;01mif\u001B[39;00m \u001B[38;5;241m400\u001B[39m \u001B[38;5;241m<\u001B[39m\u001B[38;5;241m=\u001B[39m status_code \u001B[38;5;241m<\u001B[39m \u001B[38;5;241m500\u001B[39m:\n\u001B[0;32m--> 115\u001B[0m   \u001B[38;5;28;01mraise\u001B[39;00m ClientError(status_code, response)\n\u001B[1;32m    116\u001B[0m \u001B[38;5;28;01melif\u001B[39;00m \u001B[38;5;241m500\u001B[39m \u001B[38;5;241m<\u001B[39m\u001B[38;5;241m=\u001B[39m status_code \u001B[38;5;241m<\u001B[39m \u001B[38;5;241m600\u001B[39m:\n\u001B[1;32m    117\u001B[0m   \u001B[38;5;28;01mraise\u001B[39;00m ServerError(status_code, response)\n",
      "\u001B[0;31mClientError\u001B[0m: 429 RESOURCE_EXHAUSTED. {'error': {'code': 429, 'message': 'Resource has been exhausted (e.g. check quota).', 'status': 'RESOURCE_EXHAUSTED'}}"
     ]
    }
   ],
   "execution_count": 17
  },
  {
   "metadata": {},
   "cell_type": "code",
   "outputs": [],
   "execution_count": null,
   "source": "",
   "id": "30db128a4c3a2f02"
  }
 ],
 "metadata": {
  "kernelspec": {
   "display_name": "Python 3",
   "language": "python",
   "name": "python3"
  },
  "language_info": {
   "codemirror_mode": {
    "name": "ipython",
    "version": 2
   },
   "file_extension": ".py",
   "mimetype": "text/x-python",
   "name": "python",
   "nbconvert_exporter": "python",
   "pygments_lexer": "ipython2",
   "version": "2.7.6"
  }
 },
 "nbformat": 4,
 "nbformat_minor": 5
}
