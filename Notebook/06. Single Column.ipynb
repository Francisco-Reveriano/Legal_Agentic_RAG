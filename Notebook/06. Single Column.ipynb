{
 "cells": [
  {
   "cell_type": "code",
   "id": "initial_id",
   "metadata": {
    "collapsed": true,
    "ExecuteTime": {
     "end_time": "2025-03-02T23:02:05.153467Z",
     "start_time": "2025-03-02T23:02:00.360270Z"
    }
   },
   "source": [
    "from IPython.display import Markdown, display  # Import\n",
    "import warnings\n",
    "import os\n",
    "from dotenv import load_dotenv\n",
    "import pandas as pd\n",
    "from io import StringIO\n",
    "import tiktoken\n",
    "\n",
    "from langchain import hub\n",
    "from langchain_core.output_parsers import StrOutputParser\n",
    "from langchain_openai import ChatOpenAI\n",
    "from langchain_core.prompts import ChatPromptTemplate\n",
    "from pinecone.grpc import PineconeGRPC as Pinecone\n",
    "from pinecone import ServerlessSpec\n",
    "\n",
    "# Suppress any warnings for cleaner output\n",
    "warnings.filterwarnings(\"ignore\")\n",
    "\n",
    "# Load environment variables from the .env file\n",
    "load_dotenv()\n",
    "\n",
    "# Set API keys from environment variables\n",
    "os.environ[\"OPENAI_API_KEY\"] = os.getenv(\"OPENAI_API_KEY\")\n",
    "pinecone_api_key = os.getenv(\"PINECONE_API_KEY\")"
   ],
   "outputs": [],
   "execution_count": 1
  },
  {
   "metadata": {
    "ExecuteTime": {
     "end_time": "2025-03-02T23:16:33.847407Z",
     "start_time": "2025-03-02T23:16:33.842648Z"
    }
   },
   "cell_type": "code",
   "source": [
    "def combined_table_markdown(detailed_business_requirements: str, permission_business_requirement: str, prohibitions_business_requirement: str) -> str:\n",
    "\n",
    "    combined_table_prompt = '''\n",
    "    # Instructions\n",
    "    - Combine **Detailed_Business_Requirements**, **Permission_Business_Requirements**, and \"Prohibitions_Business_Requirements** into a single list with three sections titled *Requirements*, *Permissions*, and *Prohibitions*\n",
    "    - Ensure that output is in proper markdown\n",
    "\n",
    "    # **Detailed_Business_Requirements**\n",
    "    {detailed_business_requirements}\n",
    "\n",
    "    # **Permission_Business_Requirements**\n",
    "    {permission_business_requirements}\n",
    "\n",
    "    # **Prohibitions_Business_Requirements**\n",
    "    {prohibitions_business_requirements}\n",
    "\n",
    "    '''\n",
    "\n",
    "    # Create a chat prompt template using the detailed prompt.\n",
    "    prompt = ChatPromptTemplate([\n",
    "        (\"system\", combined_table_prompt),\n",
    "    ])\n",
    "\n",
    "    # Initialize the ChatOpenAI language model with a specific model name and temperature.\n",
    "    llm = ChatOpenAI(model_name=\"gpt-4o-mini\", temperature=0)\n",
    "\n",
    "    # Combine the prompt, the language model, and the output parser into a processing chain.\n",
    "    rag_chain = prompt | llm | StrOutputParser()\n",
    "\n",
    "\n",
    "    # Asynchronously invoke the chain with the provided inputs.\n",
    "    generation = rag_chain.invoke({\n",
    "        \"detailed_business_requirements\": detailed_business_requirements,\n",
    "        \"permission_business_requirements\": permission_business_requirement,\n",
    "        \"prohibitions_business_requirements\": prohibitions_business_requirement,\n",
    "    })\n",
    "\n",
    "    return generation"
   ],
   "id": "85fd0c2ae704b44f",
   "outputs": [],
   "execution_count": 11
  },
  {
   "metadata": {
    "ExecuteTime": {
     "end_time": "2025-03-02T23:15:30.062340Z",
     "start_time": "2025-03-02T23:15:30.048496Z"
    }
   },
   "cell_type": "code",
   "source": [
    "df = pd.read_excel(\"../Data/Results/Query_Results.xlsx\")\n",
    "df"
   ],
   "id": "e9767b0c62cd5d0d",
   "outputs": [
    {
     "data": {
      "text/plain": [
       "                               Business_Requirements  \\\n",
       "0  Applications pursuant to this section shall be...   \n",
       "1  If an application for permission to continue t...   \n",
       "2  United States banking organizations, with the ...   \n",
       "3  Each full resolution plan shall include a stra...   \n",
       "4  A foreign bank may not establish a branch or a...   \n",
       "5  Each Edge or agreement corporation shall make ...   \n",
       "\n",
       "                    Simplified_Business_Requirements  \\\n",
       "0  To comply with Regulation K, applications must...   \n",
       "1  The main business requirement for Regulation K...   \n",
       "2  United States banking organizations can invest...   \n",
       "3  The main business requirement for Regulation K...   \n",
       "4  The main business requirement for Regulation K...   \n",
       "5  The main business requirements for Regulation ...   \n",
       "\n",
       "                      Detailed_Business_Requirements  \\\n",
       "0  ### **Detailed Requirements and Actions for Re...   \n",
       "1  ### Detailed Requirements and Actions for Verb...   \n",
       "2  ### **Detailed Requirements and Actions for Re...   \n",
       "3  ### **Detailed Requirements and Actions for Ve...   \n",
       "4  ### **Detailed Requirements and Actions for Re...   \n",
       "5  ### **Detailed Requirements and Actions**\\n\\n#...   \n",
       "\n",
       "                    Permission_Business_Requirements  \\\n",
       "0  ## **Permissions Based on Regulation K**\\n\\n- ...   \n",
       "1  ## **Permissions Based on Provided Context and...   \n",
       "2  ## **Permissions for U.S. Banking Organization...   \n",
       "3  ## **Permissions Based on Provided Context and...   \n",
       "4  ## **Permissions Based on Regulation K**\\n\\n- ...   \n",
       "5  ## **Permissions Based on Provided Context and...   \n",
       "\n",
       "                  Prohibitions_Business_Requirements  \n",
       "0  ## Prohibitions Based on Regulation K\\n\\n- **I...  \n",
       "1  - Conducting an activity without obtaining pri...  \n",
       "2  - United States banking organizations are proh...  \n",
       "3  - The company is prohibited from failing to de...  \n",
       "4  - Foreign banks are prohibited from establishi...  \n",
       "5  - Corporations are prohibited from failing to ...  "
      ],
      "text/html": [
       "<div>\n",
       "<style scoped>\n",
       "    .dataframe tbody tr th:only-of-type {\n",
       "        vertical-align: middle;\n",
       "    }\n",
       "\n",
       "    .dataframe tbody tr th {\n",
       "        vertical-align: top;\n",
       "    }\n",
       "\n",
       "    .dataframe thead th {\n",
       "        text-align: right;\n",
       "    }\n",
       "</style>\n",
       "<table border=\"1\" class=\"dataframe\">\n",
       "  <thead>\n",
       "    <tr style=\"text-align: right;\">\n",
       "      <th></th>\n",
       "      <th>Business_Requirements</th>\n",
       "      <th>Simplified_Business_Requirements</th>\n",
       "      <th>Detailed_Business_Requirements</th>\n",
       "      <th>Permission_Business_Requirements</th>\n",
       "      <th>Prohibitions_Business_Requirements</th>\n",
       "    </tr>\n",
       "  </thead>\n",
       "  <tbody>\n",
       "    <tr>\n",
       "      <th>0</th>\n",
       "      <td>Applications pursuant to this section shall be...</td>\n",
       "      <td>To comply with Regulation K, applications must...</td>\n",
       "      <td>### **Detailed Requirements and Actions for Re...</td>\n",
       "      <td>## **Permissions Based on Regulation K**\\n\\n- ...</td>\n",
       "      <td>## Prohibitions Based on Regulation K\\n\\n- **I...</td>\n",
       "    </tr>\n",
       "    <tr>\n",
       "      <th>1</th>\n",
       "      <td>If an application for permission to continue t...</td>\n",
       "      <td>The main business requirement for Regulation K...</td>\n",
       "      <td>### Detailed Requirements and Actions for Verb...</td>\n",
       "      <td>## **Permissions Based on Provided Context and...</td>\n",
       "      <td>- Conducting an activity without obtaining pri...</td>\n",
       "    </tr>\n",
       "    <tr>\n",
       "      <th>2</th>\n",
       "      <td>United States banking organizations, with the ...</td>\n",
       "      <td>United States banking organizations can invest...</td>\n",
       "      <td>### **Detailed Requirements and Actions for Re...</td>\n",
       "      <td>## **Permissions for U.S. Banking Organization...</td>\n",
       "      <td>- United States banking organizations are proh...</td>\n",
       "    </tr>\n",
       "    <tr>\n",
       "      <th>3</th>\n",
       "      <td>Each full resolution plan shall include a stra...</td>\n",
       "      <td>The main business requirement for Regulation K...</td>\n",
       "      <td>### **Detailed Requirements and Actions for Ve...</td>\n",
       "      <td>## **Permissions Based on Provided Context and...</td>\n",
       "      <td>- The company is prohibited from failing to de...</td>\n",
       "    </tr>\n",
       "    <tr>\n",
       "      <th>4</th>\n",
       "      <td>A foreign bank may not establish a branch or a...</td>\n",
       "      <td>The main business requirement for Regulation K...</td>\n",
       "      <td>### **Detailed Requirements and Actions for Re...</td>\n",
       "      <td>## **Permissions Based on Regulation K**\\n\\n- ...</td>\n",
       "      <td>- Foreign banks are prohibited from establishi...</td>\n",
       "    </tr>\n",
       "    <tr>\n",
       "      <th>5</th>\n",
       "      <td>Each Edge or agreement corporation shall make ...</td>\n",
       "      <td>The main business requirements for Regulation ...</td>\n",
       "      <td>### **Detailed Requirements and Actions**\\n\\n#...</td>\n",
       "      <td>## **Permissions Based on Provided Context and...</td>\n",
       "      <td>- Corporations are prohibited from failing to ...</td>\n",
       "    </tr>\n",
       "  </tbody>\n",
       "</table>\n",
       "</div>"
      ]
     },
     "execution_count": 9,
     "metadata": {},
     "output_type": "execute_result"
    }
   ],
   "execution_count": 9
  },
  {
   "metadata": {
    "ExecuteTime": {
     "end_time": "2025-03-02T23:16:51.370072Z",
     "start_time": "2025-03-02T23:16:40.501691Z"
    }
   },
   "cell_type": "code",
   "source": [
    "df = pd.read_excel(\"../Data/Results/Query_Results.xlsx\")\n",
    "generation = combined_table_markdown(detailed_business_requirements=df.loc[0, \"Detailed_Business_Requirements\"], permission_business_requirement=df.loc[0, \"Permission_Business_Requirements\"], prohibitions_business_requirement=df.loc[0, \"Prohibitions_Business_Requirements\"])\n",
    "display(Markdown(generation))"
   ],
   "id": "6fc90be0f52d8ec1",
   "outputs": [
    {
     "data": {
      "text/plain": [
       "<IPython.core.display.Markdown object>"
      ],
      "text/markdown": "# Business Requirements\n\n## Requirements\n1. **Filing Applications with the Federal Reserve Bank**\n   - **Requirement**: All applications must be submitted to the appropriate Federal Reserve Bank.\n   - **Action Steps**:\n     - Identify the appropriate Federal Reserve Bank based on the applicant's location or business operations.\n     - Prepare the application documents as per the guidelines provided by the Federal Reserve Bank.\n     - Submit the application electronically or via mail, ensuring it reaches the designated office.\n\n2. **Completeness of Application**\n   - **Requirement**: An application is not considered complete until all requested information is provided and accepted.\n   - **Action Steps**:\n     - Review the application checklist provided by the Federal Reserve Bank to ensure all required information is included.\n     - Gather necessary documentation such as financial statements, business plans, and any other required forms.\n     - Conduct a preliminary review of the application to ensure all sections are filled out accurately.\n     - Submit the application and await confirmation of its completeness from the Federal Reserve Bank.\n\n3. **Acceptance of Application**\n   - **Requirement**: The application must be accepted by the Federal Reserve Bank to proceed with the approval process.\n   - **Action Steps**:\n     - Monitor for communication from the Federal Reserve Bank regarding the acceptance status of the application.\n     - Be prepared to respond to any requests for additional information or clarification promptly.\n     - Keep records of all correspondence with the Federal Reserve Bank for future reference.\n\n4. **Approval Conditions**\n   - **Requirement**: Approval may be contingent upon the applicant's agreement to conduct activities under specific conditions or limitations.\n   - **Action Steps**:\n     - Review any conditions or limitations that may be imposed by the Federal Reserve Bank upon approval.\n     - Prepare to negotiate or agree to these conditions as part of the approval process.\n     - Develop an internal compliance plan to ensure adherence to any conditions set forth by the Federal Reserve Bank post-approval.\n     - Document all agreements and conditions in a formal manner for future reference.\n\n5. **Tracking Progress**\n   - **Requirement**: Ensure that the progress of the application process is measurable and trackable.\n   - **Action Steps**:\n     - Create a timeline or project management tool to track the submission, acceptance, and approval stages of the application.\n     - Set specific milestones for each stage of the application process (e.g., submission date, expected acceptance date, response to conditions).\n     - Regularly update the tracking tool with any communications or changes in status from the Federal Reserve Bank.\n\n6. **Time-bound Actions**\n   - **Requirement**: Establish deadlines for each step in the application process.\n   - **Action Steps**:\n     - Set a deadline for the completion of the application preparation (e.g., 2 weeks from the start date).\n     - Establish a timeline for submitting the application (e.g., within 1 week after preparation).\n     - Create follow-up deadlines for checking the acceptance status (e.g., 1 week after submission).\n     - Plan for a review period to address any conditions or limitations set by the Federal Reserve Bank (e.g., 1 month after acceptance).\n\n## Permissions\n- **Submission of Applications**\n  - Permitted to file applications with the appropriate Federal Reserve Bank.\n  - Allowed to submit applications electronically or via mail.\n\n- **Completeness and Acceptance of Applications**\n  - Permitted to provide all requested information to ensure the application is deemed complete.\n  - Authorized to engage in communication with the Federal Reserve Bank to confirm acceptance of the application.\n\n- **Approval Conditions**\n  - Permitted to agree to conduct activities under specific conditions or limitations as set by the Federal Reserve Bank.\n  - Allowed to negotiate or agree to conditions imposed upon approval.\n\n- **Tracking and Monitoring**\n  - Permitted to create and use a timeline or project management tool to track the application process.\n  - Authorized to set specific milestones and deadlines for each stage of the application process.\n\n- **Documentation and Compliance**\n  - Permitted to document all agreements, conditions, and correspondence with the Federal Reserve Bank.\n  - Allowed to develop an internal compliance plan to adhere to conditions set by the Federal Reserve Bank post-approval.\n\n## Prohibitions\n- **Incomplete Applications**: Submitting an application that does not contain all the requested information by the Federal Reserve Bank is prohibited.\n- **Unaccepted Applications**: Proceeding with any activities without the Federal Reserve Bank's acceptance of the application is prohibited.\n- **Non-compliance with Conditions**: Engaging in activities without agreeing to or adhering to specific conditions or limitations set by the Federal Reserve Bank upon approval is prohibited."
     },
     "metadata": {},
     "output_type": "display_data"
    }
   ],
   "execution_count": 12
  }
 ],
 "metadata": {
  "kernelspec": {
   "display_name": "Python 3",
   "language": "python",
   "name": "python3"
  },
  "language_info": {
   "codemirror_mode": {
    "name": "ipython",
    "version": 2
   },
   "file_extension": ".py",
   "mimetype": "text/x-python",
   "name": "python",
   "nbconvert_exporter": "python",
   "pygments_lexer": "ipython2",
   "version": "2.7.6"
  }
 },
 "nbformat": 4,
 "nbformat_minor": 5
}
