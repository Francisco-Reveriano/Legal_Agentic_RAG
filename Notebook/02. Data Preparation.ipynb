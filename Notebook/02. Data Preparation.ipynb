{
 "cells": [
  {
   "cell_type": "code",
   "id": "initial_id",
   "metadata": {
    "collapsed": true,
    "ExecuteTime": {
     "end_time": "2025-02-28T19:34:31.742189Z",
     "start_time": "2025-02-28T19:34:27.722247Z"
    }
   },
   "source": [
    "from symbol import parameters\n",
    "\n",
    "from langchain_text_splitters import RecursiveCharacterTextSplitter\n",
    "import os\n",
    "from dotenv import load_dotenv\n",
    "import warnings\n",
    "import tiktoken\n",
    "from pinecone.grpc import PineconeGRPC as Pinecone\n",
    "from pinecone import ServerlessSpec\n",
    "from openai import OpenAI\n",
    "import time\n",
    "from src.embeddings import *\n",
    "from src.data_processing import *\n",
    "import tqdm\n",
    "import itertools\n",
    "\n",
    "\n",
    "warnings.filterwarnings(\"ignore\")\n",
    "load_dotenv()\n",
    "os.environ[\"OPENAI_API_KEY\"] = os.getenv(\"OPENAI_API_KEY\")\n",
    "pinecone_api_key = os.getenv(\"PINECONE_API_KEY\")\n"
   ],
   "outputs": [
    {
     "name": "stderr",
     "output_type": "stream",
     "text": [
      "/var/folders/4p/xtbp10v53p19zbx0drx5xzcr0000gp/T/ipykernel_17364/3129549439.py:1: DeprecationWarning: The symbol module is deprecated and will be removed in future versions of Python\n",
      "  from symbol import parameters\n"
     ]
    }
   ],
   "execution_count": 1
  },
  {
   "metadata": {},
   "cell_type": "markdown",
   "source": "## Prepare Data",
   "id": "c224554a09d5bbd1"
  },
  {
   "metadata": {},
   "cell_type": "markdown",
   "source": "### Load Document",
   "id": "9ae20c9fa721689e"
  },
  {
   "metadata": {
    "ExecuteTime": {
     "end_time": "2025-02-28T19:34:54.616460Z",
     "start_time": "2025-02-28T19:34:40.262868Z"
    }
   },
   "cell_type": "code",
   "source": [
    "data = load_files(\"../Data/Raw\")\n",
    "print(len(data))\n"
   ],
   "id": "3f8b9925679bb224",
   "outputs": [
    {
     "name": "stderr",
     "output_type": "stream",
     "text": [
      "Processing files: 100%|██████████| 10/10 [00:14<00:00,  1.43s/it]"
     ]
    },
    {
     "name": "stdout",
     "output_type": "stream",
     "text": [
      "13660\n"
     ]
    },
    {
     "name": "stderr",
     "output_type": "stream",
     "text": [
      "\n"
     ]
    }
   ],
   "execution_count": 2
  },
  {
   "metadata": {
    "ExecuteTime": {
     "end_time": "2025-02-24T04:06:59.198766Z",
     "start_time": "2025-02-24T04:06:59.194561Z"
    }
   },
   "cell_type": "code",
   "source": "data[100].keys()",
   "id": "7833d4f77cab9f52",
   "outputs": [
    {
     "data": {
      "text/plain": [
       "dict_keys(['id', 'title', 'content', 'prechunk', 'postchunk', 'token_count'])"
      ]
     },
     "execution_count": 3,
     "metadata": {},
     "output_type": "execute_result"
    }
   ],
   "execution_count": 3
  },
  {
   "metadata": {},
   "cell_type": "markdown",
   "source": "### Pinecone",
   "id": "dabdc5743694f6d7"
  },
  {
   "metadata": {
    "ExecuteTime": {
     "end_time": "2025-02-24T04:17:39.770391Z",
     "start_time": "2025-02-24T04:07:08.404359Z"
    }
   },
   "cell_type": "code",
   "source": [
    "vectors = get_dataset_embeddings_parallel(data)\n",
    "len(vectors)"
   ],
   "id": "65c32021bd0f7bb1",
   "outputs": [
    {
     "name": "stderr",
     "output_type": "stream",
     "text": [
      "100%|██████████| 13660/13660 [10:31<00:00, 21.64it/s] \n"
     ]
    },
    {
     "data": {
      "text/plain": [
       "13660"
      ]
     },
     "execution_count": 6,
     "metadata": {},
     "output_type": "execute_result"
    }
   ],
   "execution_count": 6
  },
  {
   "metadata": {
    "ExecuteTime": {
     "end_time": "2025-02-24T05:23:42.725687Z",
     "start_time": "2025-02-24T05:00:39.415591Z"
    }
   },
   "cell_type": "code",
   "source": [
    "pc = Pinecone(api_key=pinecone_api_key)\n",
    "index_name = \"legal-assistant-rag\"\n",
    "# check if index already exists (it shouldn't if this is first time)\n",
    "if index_name not in pc.list_indexes().names():\n",
    "    # if does not exist, create index\n",
    "    pc.create_index(\n",
    "        index_name,\n",
    "        dimension=3072,  # dimensionality of embed 3\n",
    "        metric='cosine',\n",
    "        spec=ServerlessSpec(\n",
    "    cloud=\"aws\", region=\"us-west-2\"  # us-east-1\n",
    ")\n",
    "    )\n",
    "    # wait for index to be initialized\n",
    "    while not pc.describe_index(index_name).status['ready']:\n",
    "        time.sleep(1)\n",
    "\n",
    "# connect to index\n",
    "index = pc.Index(index_name)\n",
    "time.sleep(1)\n",
    "# view index stats\n",
    "print(index.describe_index_stats())\n",
    "\n",
    "\n",
    "def chunks(iterable, batch_size=200):\n",
    "    \"\"\"A helper function to break an iterable into chunks of size batch_size.\"\"\"\n",
    "    it = iter(iterable)\n",
    "    chunk = tuple(itertools.islice(it, batch_size))\n",
    "    while chunk:\n",
    "        yield chunk\n",
    "        chunk = tuple(itertools.islice(it, batch_size))\n",
    "\n",
    "for ids_vectors_chunk in chunks(vectors, batch_size=50):\n",
    "    index.upsert(vectors=ids_vectors_chunk)"
   ],
   "id": "c3fc7cc0d5303a3f",
   "outputs": [
    {
     "name": "stdout",
     "output_type": "stream",
     "text": [
      "{'dimension': 3072,\n",
      " 'index_fullness': 0.0,\n",
      " 'namespaces': {'': {'vector_count': 0}},\n",
      " 'total_vector_count': 0}\n"
     ]
    }
   ],
   "execution_count": 20
  },
  {
   "metadata": {
    "ExecuteTime": {
     "end_time": "2025-02-24T07:36:39.974942Z",
     "start_time": "2025-02-24T07:36:34.275693Z"
    }
   },
   "cell_type": "code",
   "source": "print(index.describe_index_stats())",
   "id": "6fe4c92ba1d27ead",
   "outputs": [
    {
     "name": "stdout",
     "output_type": "stream",
     "text": [
      "{'dimension': 3072,\n",
      " 'index_fullness': 0.0,\n",
      " 'namespaces': {'': {'vector_count': 13660}},\n",
      " 'total_vector_count': 13660}\n"
     ]
    }
   ],
   "execution_count": 21
  },
  {
   "metadata": {
    "ExecuteTime": {
     "end_time": "2025-02-24T04:59:46.122593Z",
     "start_time": "2025-02-24T04:59:46.118569Z"
    }
   },
   "cell_type": "code",
   "source": "len(vectors)",
   "id": "b8af89879b7aaa31",
   "outputs": [
    {
     "data": {
      "text/plain": [
       "13660"
      ]
     },
     "execution_count": 19,
     "metadata": {},
     "output_type": "execute_result"
    }
   ],
   "execution_count": 19
  },
  {
   "metadata": {},
   "cell_type": "code",
   "outputs": [],
   "execution_count": null,
   "source": "",
   "id": "a4463a6c42c62eca"
  },
  {
   "metadata": {
    "ExecuteTime": {
     "end_time": "2025-02-27T19:11:27.295296Z",
     "start_time": "2025-02-27T19:11:27.164201Z"
    }
   },
   "cell_type": "code",
   "source": [
    "query = \"What are the main business requirements for Regulation K?\"\n",
    "xq = client.embeddings.create(input=query, model=\"text-embedding-3-large\").data[0].embedding\n",
    "res = index.query(vector=xq, top_k=10, include_metadata=True)\n",
    "res"
   ],
   "id": "fc75567f20a0a702",
   "outputs": [
    {
     "ename": "NameError",
     "evalue": "name 'client' is not defined",
     "output_type": "error",
     "traceback": [
      "\u001B[0;31m---------------------------------------------------------------------------\u001B[0m",
      "\u001B[0;31mNameError\u001B[0m                                 Traceback (most recent call last)",
      "Cell \u001B[0;32mIn[1], line 2\u001B[0m\n\u001B[1;32m      1\u001B[0m query \u001B[38;5;241m=\u001B[39m \u001B[38;5;124m\"\u001B[39m\u001B[38;5;124mWhat are the main business requirements for Regulation K?\u001B[39m\u001B[38;5;124m\"\u001B[39m\n\u001B[0;32m----> 2\u001B[0m xq \u001B[38;5;241m=\u001B[39m \u001B[43mclient\u001B[49m\u001B[38;5;241m.\u001B[39membeddings\u001B[38;5;241m.\u001B[39mcreate(\u001B[38;5;28minput\u001B[39m\u001B[38;5;241m=\u001B[39mquery, model\u001B[38;5;241m=\u001B[39m\u001B[38;5;124m\"\u001B[39m\u001B[38;5;124mtext-embedding-3-large\u001B[39m\u001B[38;5;124m\"\u001B[39m)\u001B[38;5;241m.\u001B[39mdata[\u001B[38;5;241m0\u001B[39m]\u001B[38;5;241m.\u001B[39membedding\n\u001B[1;32m      3\u001B[0m res \u001B[38;5;241m=\u001B[39m index\u001B[38;5;241m.\u001B[39mquery(vector\u001B[38;5;241m=\u001B[39mxq, top_k\u001B[38;5;241m=\u001B[39m\u001B[38;5;241m10\u001B[39m, include_metadata\u001B[38;5;241m=\u001B[39m\u001B[38;5;28;01mTrue\u001B[39;00m)\n\u001B[1;32m      4\u001B[0m res\n",
      "\u001B[0;31mNameError\u001B[0m: name 'client' is not defined"
     ]
    }
   ],
   "execution_count": 1
  },
  {
   "metadata": {},
   "cell_type": "code",
   "outputs": [],
   "execution_count": null,
   "source": "",
   "id": "69f265434fa40c"
  }
 ],
 "metadata": {
  "kernelspec": {
   "display_name": "Python 3",
   "language": "python",
   "name": "python3"
  },
  "language_info": {
   "codemirror_mode": {
    "name": "ipython",
    "version": 2
   },
   "file_extension": ".py",
   "mimetype": "text/x-python",
   "name": "python",
   "nbconvert_exporter": "python",
   "pygments_lexer": "ipython2",
   "version": "2.7.6"
  }
 },
 "nbformat": 4,
 "nbformat_minor": 5
}
