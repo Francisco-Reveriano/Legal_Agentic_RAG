{
 "cells": [
  {
   "cell_type": "code",
   "id": "initial_id",
   "metadata": {
    "collapsed": true,
    "ExecuteTime": {
     "end_time": "2025-04-02T04:40:40.509098Z",
     "start_time": "2025-04-02T04:40:40.507396Z"
    }
   },
   "source": "import json",
   "outputs": [],
   "execution_count": 1
  },
  {
   "metadata": {
    "ExecuteTime": {
     "end_time": "2025-04-02T04:42:44.448129Z",
     "start_time": "2025-04-02T04:42:44.443965Z"
    }
   },
   "cell_type": "code",
   "source": [
    "import json\n",
    "\n",
    "try:\n",
    "    with open('../Data/Results/State.json', 'r') as f:\n",
    "        loaded_dict = json.load(f)\n",
    "except json.JSONDecodeError:\n",
    "    print(\"Error: The file is either empty or contains malformed JSON.\")"
   ],
   "id": "a7e603cce081c524",
   "outputs": [
    {
     "name": "stdout",
     "output_type": "stream",
     "text": [
      "Error: The file is either empty or contains malformed JSON.\n"
     ]
    }
   ],
   "execution_count": 3
  }
 ],
 "metadata": {
  "kernelspec": {
   "display_name": "Python 3",
   "language": "python",
   "name": "python3"
  },
  "language_info": {
   "codemirror_mode": {
    "name": "ipython",
    "version": 2
   },
   "file_extension": ".py",
   "mimetype": "text/x-python",
   "name": "python",
   "nbconvert_exporter": "python",
   "pygments_lexer": "ipython2",
   "version": "2.7.6"
  }
 },
 "nbformat": 4,
 "nbformat_minor": 5
}
