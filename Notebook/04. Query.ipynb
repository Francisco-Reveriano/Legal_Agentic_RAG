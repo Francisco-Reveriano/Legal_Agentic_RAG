{
 "cells": [
  {
   "metadata": {
    "ExecuteTime": {
     "end_time": "2025-03-01T20:05:33.475104Z",
     "start_time": "2025-03-01T20:05:28.955485Z"
    }
   },
   "cell_type": "code",
   "source": [
    "import time\n",
    "\n",
    "from IPython.display import Markdown, display  # Import\n",
    "from openai import OpenAI\n",
    "import warnings\n",
    "import tiktoken\n",
    "from pinecone.grpc import PineconeGRPC as Pinecone\n",
    "from pinecone import ServerlessSpec\n",
    "import os\n",
    "from dotenv import load_dotenv\n",
    "import asyncio\n",
    "import pandas as pd\n",
    "from io import StringIO\n",
    "from src.business_requirements import *\n",
    "from src.prompts import *\n",
    "from src.simplified_business_requirements import *\n",
    "from src.detailed_business_requirements import *\n",
    "from src.permission_business_requirements import *\n",
    "warnings.filterwarnings(\"ignore\")\n",
    "load_dotenv()\n",
    "os.environ[\"OPENAI_API_KEY\"] = os.getenv(\"OPENAI_API_KEY\")\n",
    "pinecone_api_key = os.getenv(\"PINECONE_API_KEY\")\n"
   ],
   "id": "bd1d62d94c27ce2f",
   "outputs": [],
   "execution_count": 1
  },
  {
   "metadata": {},
   "cell_type": "markdown",
   "source": "## Query Question",
   "id": "cf0b0b2c030ea01a"
  },
  {
   "metadata": {
    "ExecuteTime": {
     "end_time": "2025-03-01T20:06:03.249639Z",
     "start_time": "2025-03-01T20:05:33.478373Z"
    }
   },
   "cell_type": "code",
   "source": [
    "query = \"What are the business requirements for Regulation O?\"\n",
    "response = verbatim_business_requirements(query, top_k=25)\n",
    "display(Markdown(response))"
   ],
   "id": "9a534551887b03fd",
   "outputs": [
    {
     "data": {
      "text/plain": [
       "<IPython.core.display.Markdown object>"
      ],
      "text/markdown": "\"Business Requirement\"^^\"No member bank may extend credit to any insider of the bank or insider of its affiliates unless the extension of credit: (i) Is made on substantially the same terms (including interest rates and collateral) as, and following credit underwriting procedures that are not less stringent than, those prevailing at the time for comparable transactions by the bank with persons who are not covered by this part and who are not employed by the bank; and (ii) Does not involve more than the normal risk of repayment or present other unfavorable features.\"  \n\"No member bank may extend credit (which term includes granting a line of credit) to any insider of the bank or insider of its affiliates in an amount that, when aggregated with the amount of all other extensions of credit to that person and to all related interests of that person, exceeds the higher of $25,000 or 5 percent of the member bank's unimpaired capital and unimpaired surplus, unless: (i) the extension of credit has been approved in advance by a majority of the entire board of directors of that bank; and (ii) the interested party has abstained from participating directly or indirectly in the voting.\"  \n\"Upon receipt of a written request from the public, a member bank shall make available the names of each of its executive officers and each of its principal shareholders to whom, or to whose related interests, the member bank had outstanding as of the end of the latest previous quarter an extension of credit that, when aggregated with all other outstanding extensions of credit at such time from the member bank to such person and to all related interests of such person, equaled or exceeded 5 percent of the member bank's capital and unimpaired surplus or $500,000, whichever amount is less.\"  \n\"Each executive officer or director of a member bank the shares of which are not publicly traded shall report annually to the board of directors of the member bank the outstanding amount of any credit that was extended to the executive officer or director and that is secured by shares of the member bank.\"  \n\"Any member bank, or any officer, director, employee, agent, or other person participating in the conduct of the affairs of the bank, that violates any provision of this part (other than Sec. 215.9) is subject to civil penalties as specified in section 29 of the Federal Reserve Act (12 U.S.C. 504).\"  \n\"The requirements of this part apply to savings associations, as defined in 12 CFR 238.2(l) (including any subsidiary of a savings association), in the same manner and to the same extent as if the savings association were a member bank; provided that a savings association's unimpaired capital and unimpaired surplus will be determined under regulatory capital rules applicable to that savings association.\""
     },
     "metadata": {},
     "output_type": "display_data"
    }
   ],
   "execution_count": 2
  },
  {
   "metadata": {},
   "cell_type": "markdown",
   "source": "## Create Excel Sheet",
   "id": "d335a3e6a221067a"
  },
  {
   "metadata": {
    "ExecuteTime": {
     "end_time": "2025-03-01T20:06:03.648038Z",
     "start_time": "2025-03-01T20:06:03.634269Z"
    }
   },
   "cell_type": "code",
   "source": [
    "def clean_dataframe(df, column):\n",
    "    \"\"\"\n",
    "    Cleans the DataFrame by:\n",
    "      - Dropping rows in which the specified column does not contain any alphabetical characters (A-Z, a-z).\n",
    "      - Removing the substring \"| \" from the specified column.\n",
    "\n",
    "    Parameters:\n",
    "      df (pd.DataFrame): The input DataFrame.\n",
    "      column (str): The name of the column to clean.\n",
    "\n",
    "    Returns:\n",
    "      pd.DataFrame: The cleaned DataFrame.\n",
    "    \"\"\"\n",
    "    # Ensure the column values are treated as strings.\n",
    "    df[column] = df[column].astype(str)\n",
    "\n",
    "    # Keep only rows where the column contains at least one alphabetical character.\n",
    "    df = df[df[column].str.contains(r'[A-Za-z]', na=False)]\n",
    "\n",
    "    # Remove the exact substring \"| \" from the column.\n",
    "    df[column] = df[column].str.replace(\"| \", \"\", regex=False)\n",
    "\n",
    "    # Remove the exact substring \"|\" from the column.\n",
    "    df[column] = df[column].str.replace(\"|\", \"\", regex=False)\n",
    "\n",
    "    # Remove the exact substring \"^^\" from the column.\n",
    "    df[column] = df[column].str.replace(\"^^\", \"\", regex=False)\n",
    "\n",
    "    # Remove the exact substring \"\" \" from the column.\n",
    "    df[column] = df[column].str.replace('''\"''', \"\", regex=False)\n",
    "    return df\n",
    "\n",
    "df = convert_str_to_df(response)\n",
    "\n",
    "# Clean Table\n",
    "df = df.dropna(axis=1, how='all')\n",
    "df = clean_dataframe(df, df.columns[0])\n",
    "df[\"Business_Requirements\"] = df[df.columns[0]]\n",
    "df = df.drop(df.columns[0], axis=1)\n",
    "df\n"
   ],
   "id": "ba3006de71a74cad",
   "outputs": [
    {
     "data": {
      "text/plain": [
       "                               Business_Requirements\n",
       "0  No member bank may extend credit (which term i...\n",
       "1  Upon receipt of a written request from the pub...\n",
       "2  Each executive officer or director of a member...\n",
       "3  Any member bank, or any officer, director, emp...\n",
       "4  The requirements of this part apply to savings..."
      ],
      "text/html": [
       "<div>\n",
       "<style scoped>\n",
       "    .dataframe tbody tr th:only-of-type {\n",
       "        vertical-align: middle;\n",
       "    }\n",
       "\n",
       "    .dataframe tbody tr th {\n",
       "        vertical-align: top;\n",
       "    }\n",
       "\n",
       "    .dataframe thead th {\n",
       "        text-align: right;\n",
       "    }\n",
       "</style>\n",
       "<table border=\"1\" class=\"dataframe\">\n",
       "  <thead>\n",
       "    <tr style=\"text-align: right;\">\n",
       "      <th></th>\n",
       "      <th>Business_Requirements</th>\n",
       "    </tr>\n",
       "  </thead>\n",
       "  <tbody>\n",
       "    <tr>\n",
       "      <th>0</th>\n",
       "      <td>No member bank may extend credit (which term i...</td>\n",
       "    </tr>\n",
       "    <tr>\n",
       "      <th>1</th>\n",
       "      <td>Upon receipt of a written request from the pub...</td>\n",
       "    </tr>\n",
       "    <tr>\n",
       "      <th>2</th>\n",
       "      <td>Each executive officer or director of a member...</td>\n",
       "    </tr>\n",
       "    <tr>\n",
       "      <th>3</th>\n",
       "      <td>Any member bank, or any officer, director, emp...</td>\n",
       "    </tr>\n",
       "    <tr>\n",
       "      <th>4</th>\n",
       "      <td>The requirements of this part apply to savings...</td>\n",
       "    </tr>\n",
       "  </tbody>\n",
       "</table>\n",
       "</div>"
      ]
     },
     "execution_count": 3,
     "metadata": {},
     "output_type": "execute_result"
    }
   ],
   "execution_count": 3
  },
  {
   "metadata": {},
   "cell_type": "markdown",
   "source": "## Create Simplified Business Requirements",
   "id": "b1abb4ea5fbc83f1"
  },
  {
   "metadata": {
    "ExecuteTime": {
     "end_time": "2025-03-01T20:06:05.570114Z",
     "start_time": "2025-03-01T20:06:03.673993Z"
    }
   },
   "cell_type": "code",
   "source": [
    "async def simplified_business_requirement(query: str, df: pd.DataFrame):\n",
    "    # Create asynchronous tasks for each row's business requirement\n",
    "    tasks = [\n",
    "        simplified_buss_req(original_question=query, business_requirement=row)\n",
    "        for row in df[\"Business_Requirements\"]\n",
    "    ]\n",
    "\n",
    "    # Execute all tasks concurrently and collect results\n",
    "    results = await asyncio.gather(*tasks)\n",
    "\n",
    "    # Store the simplified business requirements back into the DataFrame\n",
    "    df[\"Simplified_Business_Requirements\"] = results\n",
    "    return df\n",
    "\n",
    "# Run the asynchronous function with your query and DataFrame\n",
    "df = await simplified_business_requirement(query=query, df=df)\n",
    "df"
   ],
   "id": "a232336e7cfe61a8",
   "outputs": [
    {
     "data": {
      "text/plain": [
       "                               Business_Requirements  \\\n",
       "0  No member bank may extend credit (which term i...   \n",
       "1  Upon receipt of a written request from the pub...   \n",
       "2  Each executive officer or director of a member...   \n",
       "3  Any member bank, or any officer, director, emp...   \n",
       "4  The requirements of this part apply to savings...   \n",
       "\n",
       "                    Simplified_Business_Requirements  \n",
       "0  The business requirements for Regulation O sta...  \n",
       "1  The business requirement for Regulation O stat...  \n",
       "2  The business requirement for Regulation O stat...  \n",
       "3  The business requirements for Regulation O sta...  \n",
       "4  The business requirements for Regulation O app...  "
      ],
      "text/html": [
       "<div>\n",
       "<style scoped>\n",
       "    .dataframe tbody tr th:only-of-type {\n",
       "        vertical-align: middle;\n",
       "    }\n",
       "\n",
       "    .dataframe tbody tr th {\n",
       "        vertical-align: top;\n",
       "    }\n",
       "\n",
       "    .dataframe thead th {\n",
       "        text-align: right;\n",
       "    }\n",
       "</style>\n",
       "<table border=\"1\" class=\"dataframe\">\n",
       "  <thead>\n",
       "    <tr style=\"text-align: right;\">\n",
       "      <th></th>\n",
       "      <th>Business_Requirements</th>\n",
       "      <th>Simplified_Business_Requirements</th>\n",
       "    </tr>\n",
       "  </thead>\n",
       "  <tbody>\n",
       "    <tr>\n",
       "      <th>0</th>\n",
       "      <td>No member bank may extend credit (which term i...</td>\n",
       "      <td>The business requirements for Regulation O sta...</td>\n",
       "    </tr>\n",
       "    <tr>\n",
       "      <th>1</th>\n",
       "      <td>Upon receipt of a written request from the pub...</td>\n",
       "      <td>The business requirement for Regulation O stat...</td>\n",
       "    </tr>\n",
       "    <tr>\n",
       "      <th>2</th>\n",
       "      <td>Each executive officer or director of a member...</td>\n",
       "      <td>The business requirement for Regulation O stat...</td>\n",
       "    </tr>\n",
       "    <tr>\n",
       "      <th>3</th>\n",
       "      <td>Any member bank, or any officer, director, emp...</td>\n",
       "      <td>The business requirements for Regulation O sta...</td>\n",
       "    </tr>\n",
       "    <tr>\n",
       "      <th>4</th>\n",
       "      <td>The requirements of this part apply to savings...</td>\n",
       "      <td>The business requirements for Regulation O app...</td>\n",
       "    </tr>\n",
       "  </tbody>\n",
       "</table>\n",
       "</div>"
      ]
     },
     "execution_count": 4,
     "metadata": {},
     "output_type": "execute_result"
    }
   ],
   "execution_count": 4
  },
  {
   "metadata": {},
   "cell_type": "markdown",
   "source": "## Obtain Detail Business Requirements",
   "id": "58deadc251bfe874"
  },
  {
   "metadata": {
    "ExecuteTime": {
     "end_time": "2025-03-01T20:06:17.068896Z",
     "start_time": "2025-03-01T20:06:05.597933Z"
    }
   },
   "cell_type": "code",
   "source": [
    "async def detailed_business_requirement(query: str, df: pd.DataFrame):\n",
    "    # Create asynchronous tasks for each row's business requirement\n",
    "    tasks = [\n",
    "        detailed_buss_req(original_question=query, business_requirement=row)\n",
    "        for row in df[\"Business_Requirements\"]\n",
    "    ]\n",
    "\n",
    "    # Execute all tasks concurrently and collect results\n",
    "    results = await asyncio.gather(*tasks)\n",
    "\n",
    "    # Store the simplified business requirements back into the DataFrame\n",
    "    df[\"Detailed_Business_Requirements\"] = results\n",
    "    return df\n",
    "\n",
    "# Run the asynchronous function with your query and DataFrame\n",
    "df = await detailed_business_requirement(query=query, df=df)\n",
    "df"
   ],
   "id": "fa9e1ad291ab7447",
   "outputs": [
    {
     "data": {
      "text/plain": [
       "                               Business_Requirements  \\\n",
       "0  No member bank may extend credit (which term i...   \n",
       "1  Upon receipt of a written request from the pub...   \n",
       "2  Each executive officer or director of a member...   \n",
       "3  Any member bank, or any officer, director, emp...   \n",
       "4  The requirements of this part apply to savings...   \n",
       "\n",
       "                    Simplified_Business_Requirements  \\\n",
       "0  The business requirements for Regulation O sta...   \n",
       "1  The business requirement for Regulation O stat...   \n",
       "2  The business requirement for Regulation O stat...   \n",
       "3  The business requirements for Regulation O sta...   \n",
       "4  The business requirements for Regulation O app...   \n",
       "\n",
       "                      Detailed_Business_Requirements  \n",
       "0  - **Identify Insiders**: Clearly define who qu...  \n",
       "1  - **Receive Written Request**: Establish a pro...  \n",
       "2  - **Identify Executive Officers and Directors*...  \n",
       "3  To address the Verbatim Business Requirements ...  \n",
       "4  To address the Verbatim Business Requirements ...  "
      ],
      "text/html": [
       "<div>\n",
       "<style scoped>\n",
       "    .dataframe tbody tr th:only-of-type {\n",
       "        vertical-align: middle;\n",
       "    }\n",
       "\n",
       "    .dataframe tbody tr th {\n",
       "        vertical-align: top;\n",
       "    }\n",
       "\n",
       "    .dataframe thead th {\n",
       "        text-align: right;\n",
       "    }\n",
       "</style>\n",
       "<table border=\"1\" class=\"dataframe\">\n",
       "  <thead>\n",
       "    <tr style=\"text-align: right;\">\n",
       "      <th></th>\n",
       "      <th>Business_Requirements</th>\n",
       "      <th>Simplified_Business_Requirements</th>\n",
       "      <th>Detailed_Business_Requirements</th>\n",
       "    </tr>\n",
       "  </thead>\n",
       "  <tbody>\n",
       "    <tr>\n",
       "      <th>0</th>\n",
       "      <td>No member bank may extend credit (which term i...</td>\n",
       "      <td>The business requirements for Regulation O sta...</td>\n",
       "      <td>- **Identify Insiders**: Clearly define who qu...</td>\n",
       "    </tr>\n",
       "    <tr>\n",
       "      <th>1</th>\n",
       "      <td>Upon receipt of a written request from the pub...</td>\n",
       "      <td>The business requirement for Regulation O stat...</td>\n",
       "      <td>- **Receive Written Request**: Establish a pro...</td>\n",
       "    </tr>\n",
       "    <tr>\n",
       "      <th>2</th>\n",
       "      <td>Each executive officer or director of a member...</td>\n",
       "      <td>The business requirement for Regulation O stat...</td>\n",
       "      <td>- **Identify Executive Officers and Directors*...</td>\n",
       "    </tr>\n",
       "    <tr>\n",
       "      <th>3</th>\n",
       "      <td>Any member bank, or any officer, director, emp...</td>\n",
       "      <td>The business requirements for Regulation O sta...</td>\n",
       "      <td>To address the Verbatim Business Requirements ...</td>\n",
       "    </tr>\n",
       "    <tr>\n",
       "      <th>4</th>\n",
       "      <td>The requirements of this part apply to savings...</td>\n",
       "      <td>The business requirements for Regulation O app...</td>\n",
       "      <td>To address the Verbatim Business Requirements ...</td>\n",
       "    </tr>\n",
       "  </tbody>\n",
       "</table>\n",
       "</div>"
      ]
     },
     "execution_count": 5,
     "metadata": {},
     "output_type": "execute_result"
    }
   ],
   "execution_count": 5
  },
  {
   "metadata": {},
   "cell_type": "markdown",
   "source": "##",
   "id": "8bdba5d4855ad0e"
  },
  {
   "metadata": {},
   "cell_type": "markdown",
   "source": "## Obtain Detailed Business Permissions",
   "id": "9b95dcadb3ef66f"
  },
  {
   "metadata": {
    "ExecuteTime": {
     "end_time": "2025-03-01T20:06:26.590391Z",
     "start_time": "2025-03-01T20:06:17.120007Z"
    }
   },
   "cell_type": "code",
   "source": [
    "async def permissions_business_requirement(query: str, df: pd.DataFrame):\n",
    "    # Create asynchronous tasks for each row's business requirement\n",
    "    tasks = [\n",
    "        permissions_buss_req(\n",
    "            original_question=query,\n",
    "            business_requirement=row[\"Business_Requirements\"],\n",
    "            detailed_business_requirement=row[\"Detailed_Business_Requirements\"]\n",
    "        )\n",
    "        for _, row in df.iterrows()\n",
    "    ]\n",
    "\n",
    "    # Execute all tasks concurrently and collect results\n",
    "    results = await asyncio.gather(*tasks)\n",
    "\n",
    "    # Store the generated permissions back into the DataFrame\n",
    "    df[\"Permission_Business_Requirements\"] = results\n",
    "    return df\n",
    "\n",
    "# Run the asynchronous function with your query and DataFrame\n",
    "df = await permissions_business_requirement(query=query, df=df)\n",
    "df"
   ],
   "id": "bd500843ac6ad03d",
   "outputs": [
    {
     "data": {
      "text/plain": [
       "                               Business_Requirements  \\\n",
       "0  No member bank may extend credit (which term i...   \n",
       "1  Upon receipt of a written request from the pub...   \n",
       "2  Each executive officer or director of a member...   \n",
       "3  Any member bank, or any officer, director, emp...   \n",
       "4  The requirements of this part apply to savings...   \n",
       "\n",
       "                    Simplified_Business_Requirements  \\\n",
       "0  The business requirements for Regulation O sta...   \n",
       "1  The business requirement for Regulation O stat...   \n",
       "2  The business requirement for Regulation O stat...   \n",
       "3  The business requirements for Regulation O sta...   \n",
       "4  The business requirements for Regulation O app...   \n",
       "\n",
       "                      Detailed_Business_Requirements  \\\n",
       "0  - **Identify Insiders**: Clearly define who qu...   \n",
       "1  - **Receive Written Request**: Establish a pro...   \n",
       "2  - **Identify Executive Officers and Directors*...   \n",
       "3  To address the Verbatim Business Requirements ...   \n",
       "4  To address the Verbatim Business Requirements ...   \n",
       "\n",
       "                    Permission_Business_Requirements  \n",
       "0  - Banks are permitted to extend credit to insi...  \n",
       "1  ### Permissions Based on Business Requirements...  \n",
       "2  ### **Permissions Based on Provided Context an...  \n",
       "3  ### Permissions Based on Regulation O\\n\\n- **E...  \n",
       "4  - Savings associations and their subsidiaries ...  "
      ],
      "text/html": [
       "<div>\n",
       "<style scoped>\n",
       "    .dataframe tbody tr th:only-of-type {\n",
       "        vertical-align: middle;\n",
       "    }\n",
       "\n",
       "    .dataframe tbody tr th {\n",
       "        vertical-align: top;\n",
       "    }\n",
       "\n",
       "    .dataframe thead th {\n",
       "        text-align: right;\n",
       "    }\n",
       "</style>\n",
       "<table border=\"1\" class=\"dataframe\">\n",
       "  <thead>\n",
       "    <tr style=\"text-align: right;\">\n",
       "      <th></th>\n",
       "      <th>Business_Requirements</th>\n",
       "      <th>Simplified_Business_Requirements</th>\n",
       "      <th>Detailed_Business_Requirements</th>\n",
       "      <th>Permission_Business_Requirements</th>\n",
       "    </tr>\n",
       "  </thead>\n",
       "  <tbody>\n",
       "    <tr>\n",
       "      <th>0</th>\n",
       "      <td>No member bank may extend credit (which term i...</td>\n",
       "      <td>The business requirements for Regulation O sta...</td>\n",
       "      <td>- **Identify Insiders**: Clearly define who qu...</td>\n",
       "      <td>- Banks are permitted to extend credit to insi...</td>\n",
       "    </tr>\n",
       "    <tr>\n",
       "      <th>1</th>\n",
       "      <td>Upon receipt of a written request from the pub...</td>\n",
       "      <td>The business requirement for Regulation O stat...</td>\n",
       "      <td>- **Receive Written Request**: Establish a pro...</td>\n",
       "      <td>### Permissions Based on Business Requirements...</td>\n",
       "    </tr>\n",
       "    <tr>\n",
       "      <th>2</th>\n",
       "      <td>Each executive officer or director of a member...</td>\n",
       "      <td>The business requirement for Regulation O stat...</td>\n",
       "      <td>- **Identify Executive Officers and Directors*...</td>\n",
       "      <td>### **Permissions Based on Provided Context an...</td>\n",
       "    </tr>\n",
       "    <tr>\n",
       "      <th>3</th>\n",
       "      <td>Any member bank, or any officer, director, emp...</td>\n",
       "      <td>The business requirements for Regulation O sta...</td>\n",
       "      <td>To address the Verbatim Business Requirements ...</td>\n",
       "      <td>### Permissions Based on Regulation O\\n\\n- **E...</td>\n",
       "    </tr>\n",
       "    <tr>\n",
       "      <th>4</th>\n",
       "      <td>The requirements of this part apply to savings...</td>\n",
       "      <td>The business requirements for Regulation O app...</td>\n",
       "      <td>To address the Verbatim Business Requirements ...</td>\n",
       "      <td>- Savings associations and their subsidiaries ...</td>\n",
       "    </tr>\n",
       "  </tbody>\n",
       "</table>\n",
       "</div>"
      ]
     },
     "execution_count": 6,
     "metadata": {},
     "output_type": "execute_result"
    }
   ],
   "execution_count": 6
  },
  {
   "metadata": {},
   "cell_type": "markdown",
   "source": "## Obtain Detailed Prohibitions",
   "id": "c9dbb5571be6adbe"
  },
  {
   "metadata": {},
   "cell_type": "code",
   "outputs": [],
   "execution_count": null,
   "source": "e",
   "id": "f87abfa694046941"
  },
  {
   "metadata": {
    "ExecuteTime": {
     "end_time": "2025-03-01T20:06:26.758966Z",
     "start_time": "2025-03-01T20:06:26.640936Z"
    }
   },
   "cell_type": "code",
   "source": "df.to_excel(\"../Data/Results/Query_Results.xlsx\")",
   "id": "8376b6f22fae46d9",
   "outputs": [],
   "execution_count": 7
  },
  {
   "metadata": {},
   "cell_type": "markdown",
   "source": "",
   "id": "2d5eab74e283e1c9"
  }
 ],
 "metadata": {
  "kernelspec": {
   "display_name": "Python 3",
   "language": "python",
   "name": "python3"
  },
  "language_info": {
   "codemirror_mode": {
    "name": "ipython",
    "version": 2
   },
   "file_extension": ".py",
   "mimetype": "text/x-python",
   "name": "python",
   "nbconvert_exporter": "python",
   "pygments_lexer": "ipython2",
   "version": "2.7.6"
  }
 },
 "nbformat": 4,
 "nbformat_minor": 5
}
