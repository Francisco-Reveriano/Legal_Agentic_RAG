{
 "cells": [
  {
   "metadata": {
    "ExecuteTime": {
     "end_time": "2025-02-28T22:56:21.414513Z",
     "start_time": "2025-02-28T22:56:16.984735Z"
    }
   },
   "cell_type": "code",
   "source": [
    "import time\n",
    "\n",
    "from IPython.display import Markdown, display  # Import\n",
    "from openai import OpenAI\n",
    "import warnings\n",
    "import tiktoken\n",
    "from pinecone.grpc import PineconeGRPC as Pinecone\n",
    "from pinecone import ServerlessSpec\n",
    "import os\n",
    "from dotenv import load_dotenv\n",
    "import pandas as pd\n",
    "from io import StringIO\n",
    "from src.business_requirements import *\n",
    "from src.prompts import *\n",
    "\n",
    "warnings.filterwarnings(\"ignore\")\n",
    "load_dotenv()\n",
    "os.environ[\"OPENAI_API_KEY\"] = os.getenv(\"OPENAI_API_KEY\")\n",
    "pinecone_api_key = os.getenv(\"PINECONE_API_KEY\")\n"
   ],
   "id": "bd1d62d94c27ce2f",
   "outputs": [],
   "execution_count": 1
  },
  {
   "metadata": {},
   "cell_type": "markdown",
   "source": "## Query Question",
   "id": "cf0b0b2c030ea01a"
  },
  {
   "metadata": {
    "ExecuteTime": {
     "end_time": "2025-02-28T22:56:55.783606Z",
     "start_time": "2025-02-28T22:56:21.418433Z"
    }
   },
   "cell_type": "code",
   "source": [
    "query = \"What are the business requirements for Regulation K?\"\n",
    "response = verbatim_business_requirements(query, top_k=25)\n",
    "display(Markdown(response))"
   ],
   "id": "9a534551887b03fd",
   "outputs": [
    {
     "data": {
      "text/plain": [
       "<IPython.core.display.Markdown object>"
      ],
      "text/markdown": "Business Requirement^^\n\"Within three days of a decision to disapprove an investment, the Board shall notify the investor in writing and state the reasons for the disapproval.\"^^\n\"An investment in an export trading company that has not been disapproved shall be made within one year from the date of the notice not to disapprove, unless the time period is extended by the Board or by the appropriate Federal Reserve Bank.\"^^\n\"No foreign bank may establish a branch or an agency, or acquire ownership or control of a commercial lending company, without the prior approval of the Board.\"^^\n\"A foreign bank shall submit an application to, and obtain prior approval from, the OCC before it establishes a Federal branch or agency or exercises fiduciary powers at a Federal branch.\"^^\n\"A foreign bank must receive a license from the OCC to open and operate its initial Federal branch or agency in the United States.\"^^\n\"An application to establish a U.S. office of a foreign bank shall not be approved unless the Board determines that the foreign bank engages directly in the business of banking outside of the United States and is subject to comprehensive supervision or regulation on a consolidated basis by the appropriate authorities in its home country, and that the foreign bank has furnished the information the Board needs to adequately assess the application.\"^^\n\"The Board shall take final action on any application under the relevant approval procedures not later than 180 days after receipt of the application, except that the period may be extended for an additional 180 days after providing notice of, and the reasons for, the extension to the applicant.\"^^\n\"Each banking institution shall establish an allocated transfer risk reserve (ATRR) for specified international assets when required by the Board in accordance with Regulation K.\"^^\n\"An eligible investor that does not qualify under the general consent procedure for an investment in an export trading company shall give the Board 60 days’ prior written notice of the proposed investment.\"^^\n\"A proposed investment in an export trading company may be made before the expiration of the 60‑day notice period if the Board notifies the investor in writing of its intention not to disapprove the investment.\""
     },
     "metadata": {},
     "output_type": "display_data"
    }
   ],
   "execution_count": 2
  },
  {
   "metadata": {},
   "cell_type": "markdown",
   "source": "## Create Excel Sheet",
   "id": "d335a3e6a221067a"
  },
  {
   "metadata": {
    "ExecuteTime": {
     "end_time": "2025-02-28T22:56:56.259796Z",
     "start_time": "2025-02-28T22:56:56.245015Z"
    }
   },
   "cell_type": "code",
   "source": [
    "def clean_dataframe(df, column):\n",
    "    \"\"\"\n",
    "    Cleans the DataFrame by:\n",
    "      - Dropping rows in which the specified column does not contain any alphabetical characters (A-Z, a-z).\n",
    "      - Removing the substring \"| \" from the specified column.\n",
    "\n",
    "    Parameters:\n",
    "      df (pd.DataFrame): The input DataFrame.\n",
    "      column (str): The name of the column to clean.\n",
    "\n",
    "    Returns:\n",
    "      pd.DataFrame: The cleaned DataFrame.\n",
    "    \"\"\"\n",
    "    # Ensure the column values are treated as strings.\n",
    "    df[column] = df[column].astype(str)\n",
    "\n",
    "    # Keep only rows where the column contains at least one alphabetical character.\n",
    "    df = df[df[column].str.contains(r'[A-Za-z]', na=False)]\n",
    "\n",
    "    # Remove the exact substring \"| \" from the column.\n",
    "    df[column] = df[column].str.replace(\"| \", \"\", regex=False)\n",
    "\n",
    "    # Remove the exact substring \"|\" from the column.\n",
    "    df[column] = df[column].str.replace(\"|\", \"\", regex=False)\n",
    "\n",
    "    # Remove the exact substring \"^^\" from the column.\n",
    "    df[column] = df[column].str.replace(\"^^\", \"\", regex=False)\n",
    "\n",
    "    # Remove the exact substring \"\" \" from the column.\n",
    "    df[column] = df[column].str.replace('''\"''', \"\", regex=False)\n",
    "    return df\n",
    "\n",
    "df = convert_str_to_df(response)\n",
    "\n",
    "# Clean Table\n",
    "df = df.dropna(axis=1, how='all')\n",
    "df = clean_dataframe(df, df.columns[0])\n",
    "df\n"
   ],
   "id": "ba3006de71a74cad",
   "outputs": [
    {
     "data": {
      "text/plain": [
       "                              Business Requirement^^\n",
       "0  Within three days of a decision to disapprove ...\n",
       "1  An investment in an export trading company tha...\n",
       "2  No foreign bank may establish a branch or an a...\n",
       "3  A foreign bank shall submit an application to,...\n",
       "4  A foreign bank must receive a license from the...\n",
       "5  An application to establish a U.S. office of a...\n",
       "6  The Board shall take final action on any appli...\n",
       "7  Each banking institution shall establish an al...\n",
       "8  An eligible investor that does not qualify und...\n",
       "9  A proposed investment in an export trading com..."
      ],
      "text/html": [
       "<div>\n",
       "<style scoped>\n",
       "    .dataframe tbody tr th:only-of-type {\n",
       "        vertical-align: middle;\n",
       "    }\n",
       "\n",
       "    .dataframe tbody tr th {\n",
       "        vertical-align: top;\n",
       "    }\n",
       "\n",
       "    .dataframe thead th {\n",
       "        text-align: right;\n",
       "    }\n",
       "</style>\n",
       "<table border=\"1\" class=\"dataframe\">\n",
       "  <thead>\n",
       "    <tr style=\"text-align: right;\">\n",
       "      <th></th>\n",
       "      <th>Business Requirement^^</th>\n",
       "    </tr>\n",
       "  </thead>\n",
       "  <tbody>\n",
       "    <tr>\n",
       "      <th>0</th>\n",
       "      <td>Within three days of a decision to disapprove ...</td>\n",
       "    </tr>\n",
       "    <tr>\n",
       "      <th>1</th>\n",
       "      <td>An investment in an export trading company tha...</td>\n",
       "    </tr>\n",
       "    <tr>\n",
       "      <th>2</th>\n",
       "      <td>No foreign bank may establish a branch or an a...</td>\n",
       "    </tr>\n",
       "    <tr>\n",
       "      <th>3</th>\n",
       "      <td>A foreign bank shall submit an application to,...</td>\n",
       "    </tr>\n",
       "    <tr>\n",
       "      <th>4</th>\n",
       "      <td>A foreign bank must receive a license from the...</td>\n",
       "    </tr>\n",
       "    <tr>\n",
       "      <th>5</th>\n",
       "      <td>An application to establish a U.S. office of a...</td>\n",
       "    </tr>\n",
       "    <tr>\n",
       "      <th>6</th>\n",
       "      <td>The Board shall take final action on any appli...</td>\n",
       "    </tr>\n",
       "    <tr>\n",
       "      <th>7</th>\n",
       "      <td>Each banking institution shall establish an al...</td>\n",
       "    </tr>\n",
       "    <tr>\n",
       "      <th>8</th>\n",
       "      <td>An eligible investor that does not qualify und...</td>\n",
       "    </tr>\n",
       "    <tr>\n",
       "      <th>9</th>\n",
       "      <td>A proposed investment in an export trading com...</td>\n",
       "    </tr>\n",
       "  </tbody>\n",
       "</table>\n",
       "</div>"
      ]
     },
     "execution_count": 3,
     "metadata": {},
     "output_type": "execute_result"
    }
   ],
   "execution_count": 3
  },
  {
   "metadata": {
    "ExecuteTime": {
     "end_time": "2025-03-01T02:19:22.088655Z",
     "start_time": "2025-03-01T02:19:21.459024Z"
    }
   },
   "cell_type": "code",
   "source": [
    "from langchain import hub\n",
    "from langchain_core.output_parsers import StrOutputParser\n",
    "from langchain_openai import ChatOpenAI\n",
    "\n",
    "# Prompt\n",
    "prompt = hub.pull(\"rlm/rag-prompt\")\n",
    "\n",
    "# LLM\n",
    "llm = ChatOpenAI(model_name=\"gpt-4o-mini\", temperature=0)\n",
    "\n",
    "# Chain\n",
    "rag_chain = prompt | llm | StrOutputParser()\n",
    "\n",
    "# docs\n",
    "docs =\n",
    "\n",
    "generation = rag_chain.invoke({\"context\": docs, \"question\": question})"
   ],
   "id": "3cd2f32be7adf128",
   "outputs": [
    {
     "data": {
      "text/plain": [
       "ChatPromptTemplate(input_variables=['context', 'question'], input_types={}, partial_variables={}, metadata={'lc_hub_owner': 'rlm', 'lc_hub_repo': 'rag-prompt', 'lc_hub_commit_hash': '50442af133e61576e74536c6556cefe1fac147cad032f4377b60c436e6cdcb6e'}, messages=[HumanMessagePromptTemplate(prompt=PromptTemplate(input_variables=['context', 'question'], input_types={}, partial_variables={}, template=\"You are an assistant for question-answering tasks. Use the following pieces of retrieved context to answer the question. If you don't know the answer, just say that you don't know. Use three sentences maximum and keep the answer concise.\\nQuestion: {question} \\nContext: {context} \\nAnswer:\"), additional_kwargs={})])"
      ]
     },
     "execution_count": 8,
     "metadata": {},
     "output_type": "execute_result"
    }
   ],
   "execution_count": 8
  },
  {
   "metadata": {
    "ExecuteTime": {
     "end_time": "2025-02-28T22:56:56.332161Z",
     "start_time": "2025-02-28T22:56:56.330266Z"
    }
   },
   "cell_type": "code",
   "source": "",
   "id": "b51557664aed31c5",
   "outputs": [],
   "execution_count": null
  }
 ],
 "metadata": {
  "kernelspec": {
   "display_name": "Python 3",
   "language": "python",
   "name": "python3"
  },
  "language_info": {
   "codemirror_mode": {
    "name": "ipython",
    "version": 2
   },
   "file_extension": ".py",
   "mimetype": "text/x-python",
   "name": "python",
   "nbconvert_exporter": "python",
   "pygments_lexer": "ipython2",
   "version": "2.7.6"
  }
 },
 "nbformat": 4,
 "nbformat_minor": 5
}
